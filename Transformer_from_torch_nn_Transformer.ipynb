{
  "nbformat": 4,
  "nbformat_minor": 0,
  "metadata": {
    "colab": {
      "provenance": [],
      "authorship_tag": "ABX9TyNgUmYy7Rc3po9/q+hpMyDx",
      "include_colab_link": true
    },
    "kernelspec": {
      "name": "python3",
      "display_name": "Python 3"
    },
    "language_info": {
      "name": "python"
    }
  },
  "cells": [
    {
      "cell_type": "markdown",
      "metadata": {
        "id": "view-in-github",
        "colab_type": "text"
      },
      "source": [
        "<a href=\"https://colab.research.google.com/github/elangbijak4/LLM-SLM-Examples/blob/main/Transformer_from_torch_nn_Transformer.ipynb\" target=\"_parent\"><img src=\"https://colab.research.google.com/assets/colab-badge.svg\" alt=\"Open In Colab\"/></a>"
      ]
    },
    {
      "cell_type": "code",
      "execution_count": 3,
      "metadata": {
        "colab": {
          "base_uri": "https://localhost:8080/"
        },
        "id": "jZFEngyx2nfX",
        "outputId": "9229898b-62fd-4731-ec7a-29319666049a"
      },
      "outputs": [
        {
          "output_type": "stream",
          "name": "stderr",
          "text": [
            "/usr/local/lib/python3.10/dist-packages/torch/nn/modules/transformer.py:306: UserWarning: enable_nested_tensor is True, but self.use_nested_tensor is False because encoder_layer.self_attn.batch_first was not True(use batch_first for better inference performance)\n",
            "  warnings.warn(f\"enable_nested_tensor is True, but self.use_nested_tensor is False because {why_not_sparsity_fast_path}\")\n"
          ]
        },
        {
          "output_type": "stream",
          "name": "stdout",
          "text": [
            "torch.Size([10, 2, 10000])\n"
          ]
        }
      ],
      "source": [
        "import torch\n",
        "import torch.nn as nn\n",
        "import math\n",
        "\n",
        "class PositionalEncoding(nn.Module):\n",
        "    def __init__(self, d_model, max_len=5000):\n",
        "        super(PositionalEncoding, self).__init__()\n",
        "        pe = torch.zeros(max_len, d_model)\n",
        "        position = torch.arange(0, max_len, dtype=torch.float).unsqueeze(1)\n",
        "        div_term = torch.exp(torch.arange(0, d_model, 2).float() * (-math.log(10000.0) / d_model))\n",
        "        pe[:, 0::2] = torch.sin(position * div_term)\n",
        "        pe[:, 1::2] = torch.cos(position * div_term)\n",
        "        pe = pe.unsqueeze(0).transpose(0, 1)\n",
        "        self.register_buffer('pe', pe)\n",
        "\n",
        "    def forward(self, x):\n",
        "        return x + self.pe[:x.size(0), :]\n",
        "\n",
        "class TransformerModel(nn.Module):\n",
        "    def __init__(self, input_dim, d_model, nhead, nhid, nlayers, output_dim):\n",
        "        super(TransformerModel, self).__init__()\n",
        "        self.model_type = 'Transformer'\n",
        "        self.src_mask = None\n",
        "        self.pos_encoder = PositionalEncoding(d_model)\n",
        "        self.encoder = nn.Embedding(input_dim, d_model)\n",
        "        self.transformer = nn.Transformer(d_model, nhead, nlayers, nlayers, nhid)\n",
        "        self.decoder = nn.Linear(d_model, output_dim)\n",
        "        self.d_model = d_model\n",
        "\n",
        "    def forward(self, src, tgt):\n",
        "        src = self.encoder(src) * math.sqrt(self.d_model)\n",
        "        tgt = self.encoder(tgt) * math.sqrt(self.d_model)\n",
        "        src = self.pos_encoder(src)\n",
        "        tgt = self.pos_encoder(tgt)\n",
        "        output = self.transformer(src, tgt)\n",
        "        output = self.decoder(output)\n",
        "        return output\n",
        "\n",
        "# Hyperparameters\n",
        "input_dim = 10000  # Size of the input vocabulary\n",
        "d_model = 512  # Embedding dimension\n",
        "nhead = 8  # Number of attention heads\n",
        "nhid = 2048  # The dimension of the feedforward network model in nn.Transformer\n",
        "nlayers = 6  # Number of nn.TransformerEncoderLayer in nn.TransformerEncoder\n",
        "output_dim = 10000  # Size of the output vocabulary\n",
        "\n",
        "# Initialize model\n",
        "model = TransformerModel(input_dim, d_model, nhead, nhid, nlayers, output_dim)\n",
        "\n",
        "# Example input tensors (batch_size=2, seq_len=10)\n",
        "src = torch.randint(0, input_dim, (10, 2))  # (seq_len, batch_size)\n",
        "tgt = torch.randint(0, output_dim, (10, 2))  # (seq_len, batch_size)\n",
        "\n",
        "# Forward pass\n",
        "output = model(src, tgt)\n",
        "\n",
        "print(output.shape)  # Output shape: (seq_len, batch_size, output_dim)\n"
      ]
    }
  ]
}