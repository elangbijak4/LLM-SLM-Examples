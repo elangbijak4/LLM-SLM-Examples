{
  "nbformat": 4,
  "nbformat_minor": 0,
  "metadata": {
    "colab": {
      "provenance": [],
      "authorship_tag": "ABX9TyPU2q3JrMOAEtDiiTwYovzc",
      "include_colab_link": true
    },
    "kernelspec": {
      "name": "python3",
      "display_name": "Python 3"
    },
    "language_info": {
      "name": "python"
    }
  },
  "cells": [
    {
      "cell_type": "markdown",
      "metadata": {
        "id": "view-in-github",
        "colab_type": "text"
      },
      "source": [
        "<a href=\"https://colab.research.google.com/github/elangbijak4/LLM-SLM-Examples/blob/main/Hitung_Bobot_WQ_WK_WV_Layer_Enkoder.ipynb\" target=\"_parent\"><img src=\"https://colab.research.google.com/assets/colab-badge.svg\" alt=\"Open In Colab\"/></a>"
      ]
    },
    {
      "cell_type": "code",
      "execution_count": 1,
      "metadata": {
        "colab": {
          "base_uri": "https://localhost:8080/"
        },
        "id": "ecjbix1_C-Rj",
        "outputId": "5ae9354e-bcb7-4042-faf4-deedfe85b5b7"
      },
      "outputs": [
        {
          "output_type": "stream",
          "name": "stdout",
          "text": [
            "Matriks bobot Q:\n",
            "<tf.Variable 'Variable:0' shape=(4, 4) dtype=float32, numpy=\n",
            "array([[ 0.05439621, -0.10820009, -0.12972192,  0.18169491],\n",
            "       [ 0.12179729, -0.05613254, -0.16733696,  0.19259092],\n",
            "       [ 0.08902131, -0.003108  ,  0.01908132,  0.04266546],\n",
            "       [ 0.06633249,  0.01292526, -0.0542859 , -0.03280606]],\n",
            "      dtype=float32)>\n",
            "\n",
            "Matriks bobot K:\n",
            "<tf.Variable 'Variable:0' shape=(4, 4) dtype=float32, numpy=\n",
            "array([[ 0.05142703, -0.03525243, -0.04482372,  0.13129558],\n",
            "       [ 0.10648432,  0.01935928, -0.11253174,  0.17875813],\n",
            "       [-0.00074239, -0.03765871,  0.07156657,  0.10010278],\n",
            "       [-0.02935515, -0.15970357,  0.1275543 , -0.01814561]],\n",
            "      dtype=float32)>\n",
            "\n",
            "Matriks bobot V:\n",
            "<tf.Variable 'Variable:0' shape=(4, 4) dtype=float32, numpy=\n",
            "array([[ 0.1073515 , -0.11238644, -0.04823754,  0.04739756],\n",
            "       [-0.01839872, -0.02265745,  0.03653766, -0.05909519],\n",
            "       [ 0.11846621,  0.00170654, -0.0942215 ,  0.02728173],\n",
            "       [ 0.0178106 ,  0.054965  ,  0.22610863,  0.1174619 ]],\n",
            "      dtype=float32)>\n"
          ]
        }
      ],
      "source": [
        "import tensorflow as tf\n",
        "\n",
        "# Fungsi untuk membuat matriks bobot secara acak\n",
        "def create_weight_matrix(input_size, output_size):\n",
        "    return tf.Variable(tf.random.normal([input_size, output_size], stddev=0.1))\n",
        "\n",
        "# Fungsi untuk melakukan operasi linear\n",
        "def linear(inputs, weight_matrix):\n",
        "    return tf.matmul(inputs, weight_matrix)\n",
        "\n",
        "# Contoh data input (token embedding)\n",
        "token_embedding = tf.constant([[0.1, 0.2, 0.3, 0.4], [0.5, 0.6, 0.7, 0.8]])\n",
        "\n",
        "# Menciptakan matriks bobot untuk Q, K, dan V secara acak\n",
        "hidden_size = 4\n",
        "num_heads = 2\n",
        "WQ = create_weight_matrix(hidden_size, hidden_size)\n",
        "WK = create_weight_matrix(hidden_size, hidden_size)\n",
        "WV = create_weight_matrix(hidden_size, hidden_size)\n",
        "\n",
        "# Operasi linear untuk menghasilkan Q, K, dan V\n",
        "Q = linear(token_embedding, WQ)\n",
        "K = linear(token_embedding, WK)\n",
        "V = linear(token_embedding, WV)\n",
        "\n",
        "print(\"Matriks bobot Q:\")\n",
        "print(WQ)\n",
        "print(\"\\nMatriks bobot K:\")\n",
        "print(WK)\n",
        "print(\"\\nMatriks bobot V:\")\n",
        "print(WV)"
      ]
    }
  ]
}