{
  "nbformat": 4,
  "nbformat_minor": 0,
  "metadata": {
    "colab": {
      "provenance": [],
      "authorship_tag": "ABX9TyPyQFQa3pjd0WEa29QxlzT7",
      "include_colab_link": true
    },
    "kernelspec": {
      "name": "python3",
      "display_name": "Python 3"
    },
    "language_info": {
      "name": "python"
    }
  },
  "cells": [
    {
      "cell_type": "markdown",
      "metadata": {
        "id": "view-in-github",
        "colab_type": "text"
      },
      "source": [
        "<a href=\"https://colab.research.google.com/github/elangbijak4/LLM-SLM-Examples/blob/main/Analisis_sentimen_Word2Vec.ipynb\" target=\"_parent\"><img src=\"https://colab.research.google.com/assets/colab-badge.svg\" alt=\"Open In Colab\"/></a>"
      ]
    },
    {
      "cell_type": "code",
      "execution_count": 3,
      "metadata": {
        "colab": {
          "base_uri": "https://localhost:8080/"
        },
        "id": "AEb_GKnvSThS",
        "outputId": "1c2f37ea-ac83-4fe2-e5d4-05f748dce184"
      },
      "outputs": [
        {
          "output_type": "stream",
          "name": "stderr",
          "text": [
            "[nltk_data] Downloading package punkt to /root/nltk_data...\n",
            "[nltk_data]   Unzipping tokenizers/punkt.zip.\n"
          ]
        },
        {
          "output_type": "stream",
          "name": "stdout",
          "text": [
            "Akurasi: 100.00%\n",
            "Sentimen prediksi untuk kalimat 'The movie was not good.': Negatif\n"
          ]
        }
      ],
      "source": [
        "from gensim.models import Word2Vec\n",
        "from nltk.tokenize import word_tokenize\n",
        "from sklearn.model_selection import train_test_split\n",
        "from sklearn.linear_model import LogisticRegression\n",
        "from sklearn.metrics import accuracy_score\n",
        "import numpy as np\n",
        "import nltk\n",
        "\n",
        "nltk.download('punkt')\n",
        "\n",
        "# Contoh korpus dengan label sentimen (1 untuk positif, 0 untuk negatif)\n",
        "corpus = [\n",
        "    (\"The movie was fantastic!\", 1),\n",
        "    (\"I hated the film.\", 0),\n",
        "    (\"It was a wonderful experience.\", 1),\n",
        "    (\"The plot was very boring.\", 0),\n",
        "    (\"Amazing performances by the actors!\", 1),\n",
        "    (\"I did not like the movie at all.\", 0)\n",
        "]\n",
        "\n",
        "# Pra-pemrosesan: Tokenisasi\n",
        "tokenized_corpus = [(word_tokenize(sentence.lower()), label) for sentence, label in corpus]\n",
        "\n",
        "# Latih model Word2Vec\n",
        "sentences = [tokens for tokens, _ in tokenized_corpus]\n",
        "word2vec_model = Word2Vec(sentences=sentences, vector_size=100, window=5, min_count=1, sg=0)\n",
        "\n",
        "# Fungsi untuk mendapatkan rata-rata vektor embedding Word2Vec dari suatu kalimat\n",
        "def get_sentence_vector(sentence_tokens, model):\n",
        "    vectors = [model.wv[word] for word in sentence_tokens if word in model.wv]\n",
        "    if len(vectors) == 0:\n",
        "        return np.zeros(model.vector_size)\n",
        "    return np.mean(vectors, axis=0)\n",
        "\n",
        "# Mengubah korpus menjadi vektor\n",
        "X = np.array([get_sentence_vector(tokens, word2vec_model) for tokens, _ in tokenized_corpus])\n",
        "y = np.array([label for _, label in tokenized_corpus])\n",
        "\n",
        "# Membagi data menjadi set pelatihan dan set pengujian\n",
        "X_train, X_test, y_train, y_test = train_test_split(X, y, test_size=0.2, random_state=42)\n",
        "\n",
        "# Melatih model klasifikasi (misalnya, Logistic Regression)\n",
        "classifier = LogisticRegression()\n",
        "classifier.fit(X_train, y_train)\n",
        "\n",
        "# Memprediksi sentimen pada set pengujian\n",
        "y_pred = classifier.predict(X_test)\n",
        "\n",
        "# Mengevaluasi model\n",
        "accuracy = accuracy_score(y_test, y_pred)\n",
        "print(f\"Akurasi: {accuracy * 100:.2f}%\")\n",
        "\n",
        "# Contoh penggunaan model untuk prediksi baru\n",
        "new_sentence = \"The movie was not good.\"\n",
        "new_tokens = word_tokenize(new_sentence.lower())\n",
        "new_vector = get_sentence_vector(new_tokens, word2vec_model)\n",
        "predicted_sentiment = classifier.predict([new_vector])[0]\n",
        "print(f\"Sentimen prediksi untuk kalimat '{new_sentence}': {'Positif' if predicted_sentiment == 1 else 'Negatif'}\")"
      ]
    }
  ]
}