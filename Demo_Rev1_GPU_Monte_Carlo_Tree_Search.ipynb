{
  "nbformat": 4,
  "nbformat_minor": 0,
  "metadata": {
    "colab": {
      "provenance": [],
      "gpuType": "T4",
      "authorship_tag": "ABX9TyPKBo6EdCazbX0BfZ/scEt/",
      "include_colab_link": true
    },
    "kernelspec": {
      "name": "python3",
      "display_name": "Python 3"
    },
    "language_info": {
      "name": "python"
    },
    "accelerator": "GPU"
  },
  "cells": [
    {
      "cell_type": "markdown",
      "metadata": {
        "id": "view-in-github",
        "colab_type": "text"
      },
      "source": [
        "<a href=\"https://colab.research.google.com/github/elangbijak4/LLM-SLM-Examples/blob/main/Demo_Rev1_GPU_Monte_Carlo_Tree_Search.ipynb\" target=\"_parent\"><img src=\"https://colab.research.google.com/assets/colab-badge.svg\" alt=\"Open In Colab\"/></a>"
      ]
    },
    {
      "cell_type": "code",
      "source": [
        "import torch\n",
        "import torch.nn as nn\n",
        "import torch.optim as optim"
      ],
      "metadata": {
        "id": "qqhrFJGTjN4_"
      },
      "execution_count": 1,
      "outputs": []
    },
    {
      "cell_type": "code",
      "source": [
        "import math\n",
        "import random"
      ],
      "metadata": {
        "id": "-r9A_FMGkbDI"
      },
      "execution_count": 8,
      "outputs": []
    },
    {
      "cell_type": "code",
      "source": [
        "# Deteksi apakah GPU tersedia\n",
        "device = torch.device(\"cuda\" if torch.cuda.is_available() else \"cpu\")\n",
        "\n",
        "class SimpleNN(nn.Module):\n",
        "    def __init__(self):\n",
        "        super(SimpleNN, self).__init__()\n",
        "        self.fc1 = nn.Linear(9, 128)\n",
        "        self.fc2 = nn.Linear(128, 128)\n",
        "        self.fc3 = nn.Linear(128, 1)\n",
        "\n",
        "    def forward(self, x):\n",
        "        x = torch.relu(self.fc1(x))\n",
        "        x = torch.relu(self.fc2(x))\n",
        "        x = torch.sigmoid(self.fc3(x))\n",
        "        return x\n",
        "\n",
        "# Pindahkan model ke device (CPU atau GPU)\n",
        "model = SimpleNN().to(device)\n",
        "optimizer = optim.Adam(model.parameters(), lr=0.001)\n",
        "loss_fn = nn.MSELoss()\n",
        "\n",
        "def evaluate_position(state):\n",
        "    board = torch.tensor(state.board, dtype=torch.float32).to(device).unsqueeze(0)\n",
        "    with torch.no_grad():\n",
        "        value = model(board)\n",
        "    return value.item()"
      ],
      "metadata": {
        "id": "QJAXQtiljKwk"
      },
      "execution_count": 2,
      "outputs": []
    },
    {
      "cell_type": "code",
      "source": [
        "class Node:\n",
        "    def __init__(self, state, parent=None):\n",
        "        self.state = state\n",
        "        self.parent = parent\n",
        "        self.children = []\n",
        "        self.visits = 0\n",
        "        self.wins = 0\n",
        "\n",
        "    def add_child(self, child_state):\n",
        "        child = Node(child_state, parent=self)\n",
        "        self.children.append(child)\n",
        "        return child\n",
        "\n",
        "    def update(self, result):\n",
        "        self.visits += 1\n",
        "        self.wins += result\n",
        "\n",
        "    def fully_expanded(self):\n",
        "        return len(self.children) == len(self.state.get_possible_moves())\n",
        "\n",
        "    def best_child(self, c_param=1.4):\n",
        "        choices_weights = [\n",
        "            (c.wins / c.visits) + c_param * math.sqrt((2 * math.log(self.visits) / c.visits))\n",
        "            for c in self.children\n",
        "        ]\n",
        "        return self.children[choices_weights.index(max(choices_weights))]"
      ],
      "metadata": {
        "id": "zC1jnAY0kWbT"
      },
      "execution_count": 6,
      "outputs": []
    },
    {
      "cell_type": "code",
      "source": [
        "class TicTacToe:\n",
        "    def __init__(self):\n",
        "        self.board = [0] * 9\n",
        "        self.current_player = 1\n",
        "\n",
        "    def get_possible_moves(self):\n",
        "        return [i for i, cell in enumerate(self.board) if cell == 0]\n",
        "\n",
        "    def play_move(self, move):\n",
        "        new_state = TicTacToe()\n",
        "        new_state.board = self.board[:]\n",
        "        new_state.board[move] = self.current_player\n",
        "        new_state.current_player = -self.current_player\n",
        "        return new_state\n",
        "\n",
        "    def is_terminal(self):\n",
        "        for (x, y, z) in [(0, 1, 2), (3, 4, 5), (6, 7, 8), (0, 3, 6), (1, 4, 7), (2, 5, 8), (0, 4, 8), (2, 4, 6)]:\n",
        "            if self.board[x] == self.board[y] == self.board[z] != 0:\n",
        "                return True\n",
        "        return 0 not in self.board\n",
        "\n",
        "    def get_result(self):\n",
        "        for (x, y, z) in [(0, 1, 2), (3, 4, 5), (6, 7, 8), (0, 3, 6), (1, 4, 7), (2, 5, 8), (0, 4, 8), (2, 4, 6)]:\n",
        "            if self.board[x] == self.board[y] == self.board[z] != 0:\n",
        "                return self.board[x]\n",
        "        return 0"
      ],
      "metadata": {
        "id": "iHSNpS2UkK98"
      },
      "execution_count": 4,
      "outputs": []
    },
    {
      "cell_type": "code",
      "source": [
        "def mcts(root, iterations):\n",
        "    for _ in range(iterations):\n",
        "        node = root\n",
        "        state = root.state\n",
        "\n",
        "        # Selection\n",
        "        while node.fully_expanded() and not state.is_terminal():\n",
        "            node = node.best_child()\n",
        "            state = state.play_move(node.state.get_possible_moves()[0])\n",
        "\n",
        "        # Expansion\n",
        "        if not state.is_terminal():\n",
        "            move = random.choice(state.get_possible_moves())\n",
        "            state = state.play_move(move)\n",
        "            node = node.add_child(state)\n",
        "\n",
        "        # Simulation with NN Evaluation\n",
        "        while not state.is_terminal():\n",
        "            state = state.play_move(random.choice(state.get_possible_moves()))\n",
        "\n",
        "        result = evaluate_position(state)\n",
        "\n",
        "        # Backpropagation\n",
        "        while node:\n",
        "            node.update(result)\n",
        "            node = node.parent\n",
        "\n",
        "    return root.best_child(c_param=0.0)\n",
        "\n",
        "# Usage Example:\n",
        "initial_state = TicTacToe()\n",
        "root = Node(initial_state)\n",
        "best_node = mcts(root, iterations=1000)\n",
        "\n",
        "print(\"Best move board state:\", best_node.state.board)"
      ],
      "metadata": {
        "colab": {
          "base_uri": "https://localhost:8080/"
        },
        "id": "bBCbeCo5jRs3",
        "outputId": "7d7caca7-13ea-49ec-fae8-8d541b60c535"
      },
      "execution_count": 9,
      "outputs": [
        {
          "output_type": "stream",
          "name": "stdout",
          "text": [
            "Best move board state: [0, 0, 0, 0, 0, 0, 1, 0, 0]\n"
          ]
        }
      ]
    }
  ]
}