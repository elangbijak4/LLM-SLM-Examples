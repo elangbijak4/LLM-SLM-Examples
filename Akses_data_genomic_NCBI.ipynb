{
  "nbformat": 4,
  "nbformat_minor": 0,
  "metadata": {
    "colab": {
      "provenance": [],
      "authorship_tag": "ABX9TyPWIShaVhMsz13w7gpOGFdj",
      "include_colab_link": true
    },
    "kernelspec": {
      "name": "python3",
      "display_name": "Python 3"
    },
    "language_info": {
      "name": "python"
    }
  },
  "cells": [
    {
      "cell_type": "markdown",
      "metadata": {
        "id": "view-in-github",
        "colab_type": "text"
      },
      "source": [
        "<a href=\"https://colab.research.google.com/github/elangbijak4/LLM-SLM-Examples/blob/main/Akses_data_genomic_NCBI.ipynb\" target=\"_parent\"><img src=\"https://colab.research.google.com/assets/colab-badge.svg\" alt=\"Open In Colab\"/></a>"
      ]
    },
    {
      "cell_type": "code",
      "source": [
        "!pip install biopython"
      ],
      "metadata": {
        "colab": {
          "base_uri": "https://localhost:8080/"
        },
        "id": "9q-HUAF6Tf-9",
        "outputId": "7784870f-d98a-4757-9f17-6ebb76b7b150"
      },
      "execution_count": 2,
      "outputs": [
        {
          "output_type": "stream",
          "name": "stdout",
          "text": [
            "Collecting biopython\n",
            "  Downloading biopython-1.83-cp310-cp310-manylinux_2_17_x86_64.manylinux2014_x86_64.whl (3.1 MB)\n",
            "\u001b[2K     \u001b[90m━━━━━━━━━━━━━━━━━━━━━━━━━━━━━━━━━━━━━━━━\u001b[0m \u001b[32m3.1/3.1 MB\u001b[0m \u001b[31m25.5 MB/s\u001b[0m eta \u001b[36m0:00:00\u001b[0m\n",
            "\u001b[?25hRequirement already satisfied: numpy in /usr/local/lib/python3.10/dist-packages (from biopython) (1.25.2)\n",
            "Installing collected packages: biopython\n",
            "Successfully installed biopython-1.83\n"
          ]
        }
      ]
    },
    {
      "cell_type": "code",
      "execution_count": 3,
      "metadata": {
        "colab": {
          "base_uri": "https://localhost:8080/"
        },
        "id": "5C95mpuxTUY_",
        "outputId": "73a1ff8c-5615-4345-cbde-90577f7a4ccb"
      },
      "outputs": [
        {
          "output_type": "stream",
          "name": "stdout",
          "text": [
            "ID: MN908947.3\n",
            "Name: MN908947\n",
            "Description: Severe acute respiratory syndrome coronavirus 2 isolate Wuhan-Hu-1, complete genome\n",
            "Number of features: 23\n",
            "/molecule_type=ss-RNA\n",
            "/topology=linear\n",
            "/data_file_division=VRL\n",
            "/date=18-MAR-2020\n",
            "/accessions=['MN908947']\n",
            "/sequence_version=3\n",
            "/keywords=['']\n",
            "/source=Severe acute respiratory syndrome coronavirus 2 (SARS-CoV-2)\n",
            "/organism=Severe acute respiratory syndrome coronavirus 2\n",
            "/taxonomy=['Viruses', 'Riboviria', 'Orthornavirae', 'Pisuviricota', 'Pisoniviricetes', 'Nidovirales', 'Cornidovirineae', 'Coronaviridae', 'Orthocoronavirinae', 'Betacoronavirus', 'Sarbecovirus', 'Severe acute respiratory syndrome-related coronavirus']\n",
            "/references=[Reference(title='A new coronavirus associated with human respiratory disease in China', ...), Reference(title='Direct Submission', ...)]\n",
            "/comment=On Jan 17, 2020 this sequence version replaced MN908947.2.\n",
            "/structured_comment=defaultdict(<class 'dict'>, {'Assembly-Data': {'Assembly Method': 'Megahit v. V1.1.3', 'Sequencing Technology': 'Illumina'}})\n",
            "Seq('ATTAAAGGTTTATACCTTCCCAGGTAACAAACCAACCAACTTTCGATCTCTTGT...AAA')\n"
          ]
        }
      ],
      "source": [
        "from Bio import Entrez, SeqIO\n",
        "\n",
        "# Set your email\n",
        "Entrez.email = \"elangbijak4@gmail.com\"\n",
        "\n",
        "# Fetch data from GenBank\n",
        "def fetch_genbank_record(accession_id):\n",
        "    handle = Entrez.efetch(db=\"nucleotide\", id=accession_id, rettype=\"gb\", retmode=\"text\")\n",
        "    record = SeqIO.read(handle, \"genbank\")\n",
        "    handle.close()\n",
        "    return record\n",
        "\n",
        "# Example access data with accession number\n",
        "record = fetch_genbank_record(\"MN908947.3\")\n",
        "print(record)"
      ]
    }
  ]
}