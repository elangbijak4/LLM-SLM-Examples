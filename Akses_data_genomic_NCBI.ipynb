{
  "nbformat": 4,
  "nbformat_minor": 0,
  "metadata": {
    "colab": {
      "provenance": [],
      "authorship_tag": "ABX9TyP1mehAxgTYyFsDHBA8iZJQ",
      "include_colab_link": true
    },
    "kernelspec": {
      "name": "python3",
      "display_name": "Python 3"
    },
    "language_info": {
      "name": "python"
    }
  },
  "cells": [
    {
      "cell_type": "markdown",
      "metadata": {
        "id": "view-in-github",
        "colab_type": "text"
      },
      "source": [
        "<a href=\"https://colab.research.google.com/github/elangbijak4/LLM-SLM-Examples/blob/main/Akses_data_genomic_NCBI.ipynb\" target=\"_parent\"><img src=\"https://colab.research.google.com/assets/colab-badge.svg\" alt=\"Open In Colab\"/></a>"
      ]
    },
    {
      "cell_type": "code",
      "source": [
        "!pip install biopython"
      ],
      "metadata": {
        "colab": {
          "base_uri": "https://localhost:8080/"
        },
        "id": "9q-HUAF6Tf-9",
        "outputId": "7784870f-d98a-4757-9f17-6ebb76b7b150"
      },
      "execution_count": 2,
      "outputs": [
        {
          "output_type": "stream",
          "name": "stdout",
          "text": [
            "Collecting biopython\n",
            "  Downloading biopython-1.83-cp310-cp310-manylinux_2_17_x86_64.manylinux2014_x86_64.whl (3.1 MB)\n",
            "\u001b[2K     \u001b[90m━━━━━━━━━━━━━━━━━━━━━━━━━━━━━━━━━━━━━━━━\u001b[0m \u001b[32m3.1/3.1 MB\u001b[0m \u001b[31m25.5 MB/s\u001b[0m eta \u001b[36m0:00:00\u001b[0m\n",
            "\u001b[?25hRequirement already satisfied: numpy in /usr/local/lib/python3.10/dist-packages (from biopython) (1.25.2)\n",
            "Installing collected packages: biopython\n",
            "Successfully installed biopython-1.83\n"
          ]
        }
      ]
    },
    {
      "cell_type": "code",
      "execution_count": 3,
      "metadata": {
        "colab": {
          "base_uri": "https://localhost:8080/"
        },
        "id": "5C95mpuxTUY_",
        "outputId": "73a1ff8c-5615-4345-cbde-90577f7a4ccb"
      },
      "outputs": [
        {
          "output_type": "stream",
          "name": "stdout",
          "text": [
            "ID: MN908947.3\n",
            "Name: MN908947\n",
            "Description: Severe acute respiratory syndrome coronavirus 2 isolate Wuhan-Hu-1, complete genome\n",
            "Number of features: 23\n",
            "/molecule_type=ss-RNA\n",
            "/topology=linear\n",
            "/data_file_division=VRL\n",
            "/date=18-MAR-2020\n",
            "/accessions=['MN908947']\n",
            "/sequence_version=3\n",
            "/keywords=['']\n",
            "/source=Severe acute respiratory syndrome coronavirus 2 (SARS-CoV-2)\n",
            "/organism=Severe acute respiratory syndrome coronavirus 2\n",
            "/taxonomy=['Viruses', 'Riboviria', 'Orthornavirae', 'Pisuviricota', 'Pisoniviricetes', 'Nidovirales', 'Cornidovirineae', 'Coronaviridae', 'Orthocoronavirinae', 'Betacoronavirus', 'Sarbecovirus', 'Severe acute respiratory syndrome-related coronavirus']\n",
            "/references=[Reference(title='A new coronavirus associated with human respiratory disease in China', ...), Reference(title='Direct Submission', ...)]\n",
            "/comment=On Jan 17, 2020 this sequence version replaced MN908947.2.\n",
            "/structured_comment=defaultdict(<class 'dict'>, {'Assembly-Data': {'Assembly Method': 'Megahit v. V1.1.3', 'Sequencing Technology': 'Illumina'}})\n",
            "Seq('ATTAAAGGTTTATACCTTCCCAGGTAACAAACCAACCAACTTTCGATCTCTTGT...AAA')\n"
          ]
        }
      ],
      "source": [
        "from Bio import Entrez, SeqIO\n",
        "\n",
        "# Set your email\n",
        "Entrez.email = \"elangbijak4@gmail.com\"\n",
        "\n",
        "# Fetch data from GenBank\n",
        "def fetch_genbank_record(accession_id):\n",
        "    handle = Entrez.efetch(db=\"nucleotide\", id=accession_id, rettype=\"gb\", retmode=\"text\")\n",
        "    record = SeqIO.read(handle, \"genbank\")\n",
        "    handle.close()\n",
        "    return record\n",
        "\n",
        "# Example access data with accession number\n",
        "record = fetch_genbank_record(\"MN908947.3\")\n",
        "print(record)"
      ]
    },
    {
      "cell_type": "code",
      "source": [
        "\n",
        "import time\n",
        "\n",
        "# Set your email\n",
        "Entrez.email = \"elangbijak4@gmail.com\"\n",
        "\n",
        "# Fetch multiple records with rate limiting\n",
        "accession_ids = [\"MN908947.3\", \"NC_000852\", \"NC_007346\"]\n",
        "records = []\n",
        "\n",
        "for accession_id in accession_ids:\n",
        "    handle = Entrez.efetch(db=\"nucleotide\", id=accession_id, rettype=\"gb\", retmode=\"text\")\n",
        "    record = SeqIO.read(handle, \"genbank\")\n",
        "    handle.close()\n",
        "    records.append(record)\n",
        "    time.sleep(1)  # Wait for 1 second between requests\n",
        "\n",
        "for record in records:\n",
        "    print(record)"
      ],
      "metadata": {
        "colab": {
          "base_uri": "https://localhost:8080/"
        },
        "id": "q4k-9mQmUm0W",
        "outputId": "ecd00fe7-42b4-4258-db78-5ec0d4f6d82d"
      },
      "execution_count": 4,
      "outputs": [
        {
          "output_type": "stream",
          "name": "stdout",
          "text": [
            "ID: MN908947.3\n",
            "Name: MN908947\n",
            "Description: Severe acute respiratory syndrome coronavirus 2 isolate Wuhan-Hu-1, complete genome\n",
            "Number of features: 23\n",
            "/molecule_type=ss-RNA\n",
            "/topology=linear\n",
            "/data_file_division=VRL\n",
            "/date=18-MAR-2020\n",
            "/accessions=['MN908947']\n",
            "/sequence_version=3\n",
            "/keywords=['']\n",
            "/source=Severe acute respiratory syndrome coronavirus 2 (SARS-CoV-2)\n",
            "/organism=Severe acute respiratory syndrome coronavirus 2\n",
            "/taxonomy=['Viruses', 'Riboviria', 'Orthornavirae', 'Pisuviricota', 'Pisoniviricetes', 'Nidovirales', 'Cornidovirineae', 'Coronaviridae', 'Orthocoronavirinae', 'Betacoronavirus', 'Sarbecovirus', 'Severe acute respiratory syndrome-related coronavirus']\n",
            "/references=[Reference(title='A new coronavirus associated with human respiratory disease in China', ...), Reference(title='Direct Submission', ...)]\n",
            "/comment=On Jan 17, 2020 this sequence version replaced MN908947.2.\n",
            "/structured_comment=defaultdict(<class 'dict'>, {'Assembly-Data': {'Assembly Method': 'Megahit v. V1.1.3', 'Sequencing Technology': 'Illumina'}})\n",
            "Seq('ATTAAAGGTTTATACCTTCCCAGGTAACAAACCAACCAACTTTCGATCTCTTGT...AAA')\n",
            "ID: NC_000852.5\n",
            "Name: NC_000852\n",
            "Description: Paramecium bursaria Chlorella virus 1, complete genome\n",
            "Database cross-references: BioProject:PRJNA485481\n",
            "Number of features: 1627\n",
            "/molecule_type=DNA\n",
            "/topology=linear\n",
            "/data_file_division=VRL\n",
            "/date=07-JAN-2023\n",
            "/accessions=['NC_000852']\n",
            "/sequence_version=5\n",
            "/keywords=['RefSeq']\n",
            "/source=Paramecium bursaria Chlorella virus 1 (PBCV-1)\n",
            "/organism=Paramecium bursaria Chlorella virus 1\n",
            "/taxonomy=['Viruses', 'Varidnaviria', 'Bamfordvirae', 'Nucleocytoviricota', 'Megaviricetes', 'Algavirales', 'Phycodnaviridae', 'Chlorovirus']\n",
            "/references=[Reference(title='Microarray analysis of Paramecium bursaria chlorella virus 1 transcription', ...), Reference(title='Characterization of a beta-1,3-glucanase encoded by chlorella virus PBCV-1', ...), Reference(title='Chlorella virus PBCV-1 encodes a functional homospermidine synthase', ...), Reference(title='Analysis of 74 kb of DNA located at the right end of the 330-kb chlorella virus PBCV-1 genome', ...), Reference(title='Analysis of 76 kb of the chlorella virus PBCV-1 330-kb genome: map positions 182 to 258', ...), Reference(title='Analysis of 94 kb of the chlorella virus PBCV-1 330-kb genome: map positions 88 to 182', ...), Reference(title='Analysis of 43 kb of the Chlorella virus PBCV-1 330-kb genome: map positions 45 to 88', ...), Reference(title='Analysis of 45 kb of DNA located at the left end of the chlorella virus PBCV-1 genome', ...), Reference(title='Paramecium bursaria Chlorella virus 1 proteome reveals novel architectural and regulatory features of a giant virus', ...), Reference(title='Direct Submission', ...), Reference(title='Direct Submission', ...)]\n",
            "/comment=PROVISIONAL REFSEQ: This record has not yet been subject to final\n",
            "NCBI review. The reference sequence is identical to JF411744.\n",
            "On Jul 15, 2011 this sequence version replaced NC_000852.4.\n",
            "COMPLETENESS: full length.\n",
            "Seq('GGGAGAACCAGGTGGGATTGACAGTGGTAAATGTGTTGACCACGAGTAAAAACA...TTT')\n",
            "ID: NC_007346.1\n",
            "Name: NC_007346\n",
            "Description: Emiliania huxleyi virus 86, complete genome\n",
            "Database cross-references: BioProject:PRJNA485481\n",
            "Number of features: 2893\n",
            "/molecule_type=DNA\n",
            "/topology=circular\n",
            "/data_file_division=VRL\n",
            "/date=08-JAN-2023\n",
            "/accessions=['NC_007346']\n",
            "/sequence_version=1\n",
            "/keywords=['RefSeq', 'complete genome']\n",
            "/source=Emiliania huxleyi virus 86\n",
            "/organism=Emiliania huxleyi virus 86\n",
            "/taxonomy=['Viruses', 'Varidnaviria', 'Bamfordvirae', 'Nucleocytoviricota', 'Megaviricetes', 'Algavirales', 'Phycodnaviridae', 'Coccolithovirus']\n",
            "/references=[Reference(title='Complete genome sequence and lytic phase transcription profile of a Coccolithovirus', ...), Reference(title='Direct Submission', ...), Reference(title='Direct Submission', ...)]\n",
            "/comment=PROVISIONAL REFSEQ: This record has not yet been subject to final\n",
            "NCBI review. The reference sequence was derived from AJ890364.\n",
            "COMPLETENESS: full length.\n",
            "Seq('TATATTTAACGCGAATGATTTAAGGATTTTTATGGTTTTAACCAAAACTCTGTA...TAT')\n"
          ]
        }
      ]
    }
  ]
}