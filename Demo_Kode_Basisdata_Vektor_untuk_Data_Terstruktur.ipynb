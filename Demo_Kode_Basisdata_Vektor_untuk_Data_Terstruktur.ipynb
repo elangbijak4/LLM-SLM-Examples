{
  "nbformat": 4,
  "nbformat_minor": 0,
  "metadata": {
    "colab": {
      "provenance": [],
      "authorship_tag": "ABX9TyMNhjLXwvg2NXHpKwrRbXGQ",
      "include_colab_link": true
    },
    "kernelspec": {
      "name": "python3",
      "display_name": "Python 3"
    },
    "language_info": {
      "name": "python"
    }
  },
  "cells": [
    {
      "cell_type": "markdown",
      "metadata": {
        "id": "view-in-github",
        "colab_type": "text"
      },
      "source": [
        "<a href=\"https://colab.research.google.com/github/elangbijak4/LLM-SLM-Examples/blob/main/Demo_Kode_Basisdata_Vektor_untuk_Data_Terstruktur.ipynb\" target=\"_parent\"><img src=\"https://colab.research.google.com/assets/colab-badge.svg\" alt=\"Open In Colab\"/></a>"
      ]
    },
    {
      "cell_type": "code",
      "source": [
        "!pip install pymilvus"
      ],
      "metadata": {
        "id": "a1TcXxOVAUYj"
      },
      "execution_count": null,
      "outputs": []
    },
    {
      "cell_type": "code",
      "source": [
        "from transformers import BertTokenizer, BertModel\n",
        "import torch\n",
        "from pymilvus import Collection, FieldSchema, CollectionSchema, DataType\n",
        "from sklearn.metrics.pairwise import cosine_similarity\n",
        "\n",
        "# Inisialisasi tokenizer dan model\n",
        "tokenizer = BertTokenizer.from_pretrained('bert-base-uncased')\n",
        "model = BertModel.from_pretrained('bert-base-uncased')\n",
        "\n",
        "# Data tabel\n",
        "records = [\n",
        "    \"1 product1 10.99\",\n",
        "    \"2 product2 15.49\",\n",
        "    \"3 product3 7.99\"\n",
        "]\n",
        "table_schema = \"id name price\"\n",
        "\n",
        "# Fungsi untuk mendapatkan embedding dari teks\n",
        "def get_embedding(text):\n",
        "    inputs = tokenizer(text, return_tensors='pt')\n",
        "    outputs = model(**inputs)\n",
        "    return outputs.last_hidden_state.mean(dim=1).detach().numpy()\n",
        "\n",
        "# Mendapatkan embedding untuk setiap rekaman\n",
        "record_embeddings = [get_embedding(record) for record in records]\n",
        "\n",
        "# Mendapatkan embedding untuk schema tabel\n",
        "schema_embedding = get_embedding(table_schema)\n",
        "\n",
        "# Definisikan skema untuk koleksi\n",
        "fields = [\n",
        "    FieldSchema(name=\"id\", dtype=DataType.INT64, is_primary=True),\n",
        "    FieldSchema(name=\"vector\", dtype=DataType.FLOAT_VECTOR, dim=record_embeddings[0].shape[1])\n",
        "]\n",
        "schema = CollectionSchema(fields, description=\"Product collection\")\n",
        "\n",
        "# Buat koleksi\n",
        "collection = Collection(name=\"products\", schema=schema)\n",
        "\n",
        "# Menambahkan data ke koleksi\n",
        "data = [\n",
        "    [1, 2, 3],  # id\n",
        "    [embedding[0] for embedding in record_embeddings]  # vector\n",
        "]\n",
        "collection.insert(data)\n",
        "\n",
        "# Menambahkan schema embedding sebagai metadata atau dalam koleksi terpisah\n",
        "schema_collection = Collection(name=\"schemas\", schema=schema)\n",
        "schema_data = [\n",
        "    [1],  # id, bisa diabaikan atau disesuaikan\n",
        "    [schema_embedding[0]]  # vector\n",
        "]\n",
        "schema_collection.insert(schema_data)\n",
        "\n",
        "# Contoh tabel schema embedding lainnya\n",
        "other_table_schema = \"user_id user_name user_age\"\n",
        "other_schema_embedding = get_embedding(other_table_schema)\n",
        "\n",
        "# Menghitung similarity\n",
        "similarity = cosine_similarity([schema_embedding[0]], [other_schema_embedding[0]])\n",
        "print(\"Similarity antara schema tabel:\", similarity[0][0])"
      ],
      "metadata": {
        "id": "sgxyH2HjAsCK"
      },
      "execution_count": null,
      "outputs": []
    }
  ]
}