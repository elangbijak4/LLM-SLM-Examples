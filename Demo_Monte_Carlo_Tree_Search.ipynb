{
  "nbformat": 4,
  "nbformat_minor": 0,
  "metadata": {
    "colab": {
      "provenance": [],
      "authorship_tag": "ABX9TyPVMtY5NexOTRBcHxSdeTHT",
      "include_colab_link": true
    },
    "kernelspec": {
      "name": "python3",
      "display_name": "Python 3"
    },
    "language_info": {
      "name": "python"
    }
  },
  "cells": [
    {
      "cell_type": "markdown",
      "metadata": {
        "id": "view-in-github",
        "colab_type": "text"
      },
      "source": [
        "<a href=\"https://colab.research.google.com/github/elangbijak4/LLM-SLM-Examples/blob/main/Demo_Monte_Carlo_Tree_Search.ipynb\" target=\"_parent\"><img src=\"https://colab.research.google.com/assets/colab-badge.svg\" alt=\"Open In Colab\"/></a>"
      ]
    },
    {
      "cell_type": "code",
      "source": [
        "import math\n",
        "import random"
      ],
      "metadata": {
        "id": "iNXQxN0ffr58"
      },
      "execution_count": 3,
      "outputs": []
    },
    {
      "cell_type": "code",
      "source": [
        "class Node:\n",
        "    def __init__(self, state, parent=None):\n",
        "        self.state = state\n",
        "        self.parent = parent\n",
        "        self.children = []\n",
        "        self.visits = 0\n",
        "        self.wins = 0\n",
        "\n",
        "    def add_child(self, child_state):\n",
        "        child = Node(child_state, parent=self)\n",
        "        self.children.append(child)\n",
        "        return child\n",
        "\n",
        "    def update(self, result):\n",
        "        self.visits += 1\n",
        "        self.wins += result\n",
        "\n",
        "    def fully_expanded(self):\n",
        "        return len(self.children) == len(self.state.get_possible_moves())\n",
        "\n",
        "    def best_child(self, c_param=1.4):\n",
        "        choices_weights = [\n",
        "            (c.wins / c.visits) + c_param * math.sqrt((2 * math.log(self.visits) / c.visits))\n",
        "            for c in self.children\n",
        "        ]\n",
        "        return self.children[choices_weights.index(max(choices_weights))]\n",
        "\n",
        "\n",
        "class TicTacToe:\n",
        "    def __init__(self):\n",
        "        self.board = [0] * 9\n",
        "        self.current_player = 1\n",
        "\n",
        "    def get_possible_moves(self):\n",
        "        return [i for i, cell in enumerate(self.board) if cell == 0]\n",
        "\n",
        "    def play_move(self, move):\n",
        "        new_state = TicTacToe()\n",
        "        new_state.board = self.board[:]\n",
        "        new_state.board[move] = self.current_player\n",
        "        new_state.current_player = -self.current_player\n",
        "        return new_state\n",
        "\n",
        "    def is_terminal(self):\n",
        "        for (x, y, z) in [(0, 1, 2), (3, 4, 5), (6, 7, 8), (0, 3, 6), (1, 4, 7), (2, 5, 8), (0, 4, 8), (2, 4, 6)]:\n",
        "            if self.board[x] == self.board[y] == self.board[z] != 0:\n",
        "                return True\n",
        "        return 0 not in self.board\n",
        "\n",
        "    def get_result(self):\n",
        "        for (x, y, z) in [(0, 1, 2), (3, 4, 5), (6, 7, 8), (0, 3, 6), (1, 4, 7), (2, 5, 8), (0, 4, 8), (2, 4, 6)]:\n",
        "            if self.board[x] == self.board[y] == self.board[z] != 0:\n",
        "                return self.board[x]\n",
        "        return 0\n",
        "\n",
        "\n",
        "def mcts(root, iterations):\n",
        "    for _ in range(iterations):\n",
        "        node = root\n",
        "        state = root.state\n",
        "\n",
        "        # Selection\n",
        "        while node.fully_expanded() and not state.is_terminal():\n",
        "            node = node.best_child()\n",
        "            state = state.play_move(node.state.get_possible_moves()[0])\n",
        "\n",
        "        # Expansion\n",
        "        if not state.is_terminal():\n",
        "            move = random.choice(state.get_possible_moves())\n",
        "            state = state.play_move(move)\n",
        "            node = node.add_child(state)\n",
        "\n",
        "        # Simulation\n",
        "        while not state.is_terminal():\n",
        "            state = state.play_move(random.choice(state.get_possible_moves()))\n",
        "\n",
        "        # Backpropagation\n",
        "        result = state.get_result()\n",
        "        while node:\n",
        "            node.update(result)\n",
        "            node = node.parent\n",
        "\n",
        "    return root.best_child(c_param=0.0)\n",
        "\n",
        "\n",
        "# Usage Example:\n",
        "initial_state = TicTacToe()\n",
        "root = Node(initial_state)\n",
        "best_node = mcts(root, iterations=1000)\n",
        "\n",
        "print(\"Best move board state:\", best_node.state.board)"
      ],
      "metadata": {
        "colab": {
          "base_uri": "https://localhost:8080/"
        },
        "id": "-YoVjCI7fnhO",
        "outputId": "0e072172-9952-45fa-ed63-bfcdc6fab4be"
      },
      "execution_count": 4,
      "outputs": [
        {
          "output_type": "stream",
          "name": "stdout",
          "text": [
            "Best move board state: [0, 0, 0, 0, 0, 0, 0, 0, 1]\n"
          ]
        }
      ]
    }
  ]
}