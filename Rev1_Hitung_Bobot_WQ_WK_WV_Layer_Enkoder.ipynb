{
  "nbformat": 4,
  "nbformat_minor": 0,
  "metadata": {
    "colab": {
      "provenance": [],
      "authorship_tag": "ABX9TyMEvVSfcbsm51QVqrdrfWct",
      "include_colab_link": true
    },
    "kernelspec": {
      "name": "python3",
      "display_name": "Python 3"
    },
    "language_info": {
      "name": "python"
    }
  },
  "cells": [
    {
      "cell_type": "markdown",
      "metadata": {
        "id": "view-in-github",
        "colab_type": "text"
      },
      "source": [
        "<a href=\"https://colab.research.google.com/github/elangbijak4/LLM-SLM-Examples/blob/main/Rev1_Hitung_Bobot_WQ_WK_WV_Layer_Enkoder.ipynb\" target=\"_parent\"><img src=\"https://colab.research.google.com/assets/colab-badge.svg\" alt=\"Open In Colab\"/></a>"
      ]
    },
    {
      "cell_type": "code",
      "execution_count": 3,
      "metadata": {
        "colab": {
          "base_uri": "https://localhost:8080/"
        },
        "id": "ecjbix1_C-Rj",
        "outputId": "497b4d00-4c8c-434c-f4dc-7c172dde751d"
      },
      "outputs": [
        {
          "output_type": "stream",
          "name": "stdout",
          "text": [
            "Iterasi ke-10, Loss: 0.09146051108837128\n",
            "Iterasi ke-20, Loss: 0.02696048468351364\n",
            "Iterasi ke-30, Loss: -0.0375395268201828\n",
            "Iterasi ke-40, Loss: -0.10203951597213745\n",
            "Iterasi ke-50, Loss: -0.1665394902229309\n",
            "Iterasi ke-60, Loss: -0.23103946447372437\n",
            "Iterasi ke-70, Loss: -0.2955394387245178\n",
            "Iterasi ke-80, Loss: -0.36003944277763367\n",
            "Iterasi ke-90, Loss: -0.42453938722610474\n",
            "Iterasi ke-100, Loss: -0.48903942108154297\n",
            "\n",
            "Matriks bobot Q setelah pelatihan:\n",
            "<tf.Variable 'Variable:0' shape=(4, 4) dtype=float32, numpy=\n",
            "array([[-0.09691421, -0.09159392, -0.07800677, -0.11576727],\n",
            "       [-0.21191075, -0.2815618 , -0.0063609 , -0.09028477],\n",
            "       [-0.02925505, -0.02485267, -0.12946567, -0.36045235],\n",
            "       [-0.0470544 , -0.07943065, -0.20854315,  0.07348108]],\n",
            "      dtype=float32)>\n",
            "\n",
            "Matriks bobot K setelah pelatihan:\n",
            "<tf.Variable 'Variable:0' shape=(4, 4) dtype=float32, numpy=\n",
            "array([[-0.07104967, -0.19789678, -0.11012533, -0.11533465],\n",
            "       [ 0.02004519,  0.05016217, -0.11031012,  0.07029653],\n",
            "       [-0.20066404, -0.17487632,  0.04101142, -0.18709894],\n",
            "       [-0.09018226, -0.08509833, -0.02937281, -0.06849677]],\n",
            "      dtype=float32)>\n",
            "\n",
            "Matriks bobot V setelah pelatihan:\n",
            "<tf.Variable 'Variable:0' shape=(4, 4) dtype=float32, numpy=\n",
            "array([[-0.04724576, -0.16776767, -0.11557102, -0.05724688],\n",
            "       [-0.03195802, -0.05499632,  0.0976318 ,  0.06487632],\n",
            "       [-0.22761734,  0.00486168, -0.05874576,  0.01952029],\n",
            "       [-0.13149992, -0.21204169, -0.23814447, -0.12534317]],\n",
            "      dtype=float32)>\n"
          ]
        }
      ],
      "source": [
        "import tensorflow as tf\n",
        "\n",
        "# Fungsi untuk membuat matriks bobot secara acak\n",
        "def create_weight_matrix(input_size, output_size):\n",
        "    return tf.Variable(tf.random.normal([input_size, output_size], stddev=0.1))\n",
        "\n",
        "# Fungsi untuk melakukan operasi linear\n",
        "def linear(inputs, weight_matrix):\n",
        "    return tf.matmul(inputs, weight_matrix)\n",
        "\n",
        "# Contoh data input (token embedding)\n",
        "token_embedding = tf.constant([[0.1, 0.2, 0.3, 0.4], [0.5, 0.6, 0.7, 0.8]])\n",
        "\n",
        "# Menciptakan matriks bobot untuk Q, K, dan V secara acak\n",
        "hidden_size = 4\n",
        "num_heads = 2\n",
        "WQ = create_weight_matrix(hidden_size, hidden_size)\n",
        "WK = create_weight_matrix(hidden_size, hidden_size)\n",
        "WV = create_weight_matrix(hidden_size, hidden_size)\n",
        "\n",
        "# Contoh proses pelatihan dalam k iterasi\n",
        "learning_rate = 0.01\n",
        "num_iterations = 100\n",
        "\n",
        "for i in range(num_iterations):\n",
        "    with tf.GradientTape() as tape:\n",
        "        # Operasi linear untuk menghasilkan Q, K, dan V\n",
        "        Q = linear(token_embedding, WQ)\n",
        "        K = linear(token_embedding, WK)\n",
        "        V = linear(token_embedding, WV)\n",
        "\n",
        "        # Hitung loss function (contoh sederhana, bisa berbeda dalam implementasi yang sebenarnya)\n",
        "        loss = tf.reduce_mean(Q + K + V)  # Contoh loss function sederhana\n",
        "\n",
        "    # Hitung gradien\n",
        "    gradients = tape.gradient(loss, [WQ, WK, WV])\n",
        "\n",
        "    # Perbarui matriks bobot\n",
        "    WQ.assign_sub(learning_rate * gradients[0])\n",
        "    WK.assign_sub(learning_rate * gradients[1])\n",
        "    WV.assign_sub(learning_rate * gradients[2])\n",
        "\n",
        "    if (i + 1) % 10 == 0:\n",
        "        print(f\"Iterasi ke-{i + 1}, Loss: {loss.numpy()}\")\n",
        "\n",
        "print(\"\\nMatriks bobot Q setelah pelatihan:\")\n",
        "print(WQ)\n",
        "print(\"\\nMatriks bobot K setelah pelatihan:\")\n",
        "print(WK)\n",
        "print(\"\\nMatriks bobot V setelah pelatihan:\")\n",
        "print(WV)"
      ]
    }
  ]
}