{
  "nbformat": 4,
  "nbformat_minor": 0,
  "metadata": {
    "colab": {
      "provenance": [],
      "gpuType": "T4",
      "authorship_tag": "ABX9TyPWK+/NlZ043qQYJTNdT4dJ",
      "include_colab_link": true
    },
    "kernelspec": {
      "name": "python3",
      "display_name": "Python 3"
    },
    "language_info": {
      "name": "python"
    },
    "accelerator": "GPU"
  },
  "cells": [
    {
      "cell_type": "markdown",
      "metadata": {
        "id": "view-in-github",
        "colab_type": "text"
      },
      "source": [
        "<a href=\"https://colab.research.google.com/github/elangbijak4/LLM-SLM-Examples/blob/main/Demo_Rev1_Monte_Carlo_Tree_Search.ipynb\" target=\"_parent\"><img src=\"https://colab.research.google.com/assets/colab-badge.svg\" alt=\"Open In Colab\"/></a>"
      ]
    },
    {
      "cell_type": "code",
      "source": [
        "import torch\n",
        "import torch.nn as nn\n",
        "import torch.optim as optim"
      ],
      "metadata": {
        "id": "qqhrFJGTjN4_"
      },
      "execution_count": 19,
      "outputs": []
    },
    {
      "cell_type": "code",
      "source": [
        "class SimpleNN(nn.Module):\n",
        "    def __init__(self):\n",
        "        super(SimpleNN, self).__init__()\n",
        "        self.fc1 = nn.Linear(9, 128)\n",
        "        self.fc2 = nn.Linear(128, 128)\n",
        "        self.fc3 = nn.Linear(128, 1)\n",
        "\n",
        "    def forward(self, x):\n",
        "        x = torch.relu(self.fc1(x))\n",
        "        x = torch.relu(self.fc2(x))\n",
        "        x = torch.sigmoid(self.fc3(x))\n",
        "        return x\n",
        "\n",
        "model = SimpleNN().cuda()\n",
        "optimizer = optim.Adam(model.parameters(), lr=0.001)\n",
        "loss_fn = nn.MSELoss()\n",
        "\n",
        "def evaluate_position(state):\n",
        "    board = torch.tensor(state.board, dtype=torch.float32).cuda().unsqueeze(0)\n",
        "    with torch.no_grad():\n",
        "        value = model(board)\n",
        "    return value.item()"
      ],
      "metadata": {
        "id": "QJAXQtiljKwk"
      },
      "execution_count": 20,
      "outputs": []
    },
    {
      "cell_type": "code",
      "source": [
        "def mcts(root, iterations):\n",
        "    for _ in range(iterations):\n",
        "        node = root\n",
        "        state = root.state\n",
        "\n",
        "        # Selection\n",
        "        while node.fully_expanded() and not state.is_terminal():\n",
        "            node = node.best_child()\n",
        "            state = state.play_move(node.state.get_possible_moves()[0])\n",
        "\n",
        "        # Expansion\n",
        "        if not state.is_terminal():\n",
        "            move = random.choice(state.get_possible_moves())\n",
        "            state = state.play_move(move)\n",
        "            node = node.add_child(state)\n",
        "\n",
        "        # Simulation with NN Evaluation\n",
        "        while not state.is_terminal():\n",
        "            state = state.play_move(random.choice(state.get_possible_moves()))\n",
        "\n",
        "        result = evaluate_position(state)\n",
        "\n",
        "        # Backpropagation\n",
        "        while node:\n",
        "            node.update(result)\n",
        "            node = node.parent\n",
        "\n",
        "    return root.best_child(c_param=0.0)\n",
        "\n",
        "# Usage Example:\n",
        "initial_state = TicTacToe()\n",
        "root = Node(initial_state)\n",
        "best_node = mcts(root, iterations=1000)\n",
        "\n",
        "print(\"Best move board state:\", best_node.state.board)"
      ],
      "metadata": {
        "colab": {
          "base_uri": "https://localhost:8080/"
        },
        "id": "bBCbeCo5jRs3",
        "outputId": "9f728c5a-ac10-4fc3-e237-d448935fa53d"
      },
      "execution_count": 21,
      "outputs": [
        {
          "output_type": "stream",
          "name": "stdout",
          "text": [
            "Best move board state: [0, 0, 0, 0, 0, 0, 0, 1, 0]\n"
          ]
        }
      ]
    }
  ]
}