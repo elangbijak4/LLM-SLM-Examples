{
  "nbformat": 4,
  "nbformat_minor": 0,
  "metadata": {
    "colab": {
      "provenance": [],
      "authorship_tag": "ABX9TyOoXZzu/2tts4+v31dtObVB",
      "include_colab_link": true
    },
    "kernelspec": {
      "name": "python3",
      "display_name": "Python 3"
    },
    "language_info": {
      "name": "python"
    }
  },
  "cells": [
    {
      "cell_type": "markdown",
      "metadata": {
        "id": "view-in-github",
        "colab_type": "text"
      },
      "source": [
        "<a href=\"https://colab.research.google.com/github/elangbijak4/LLM-SLM-Examples/blob/main/Vektor_embedding_GloVe.ipynb\" target=\"_parent\"><img src=\"https://colab.research.google.com/assets/colab-badge.svg\" alt=\"Open In Colab\"/></a>"
      ]
    },
    {
      "cell_type": "code",
      "execution_count": 1,
      "metadata": {
        "id": "AEb_GKnvSThS"
      },
      "outputs": [],
      "source": [
        "from gensim.models import KeyedVectors\n",
        "from nltk.tokenize import word_tokenize\n",
        "import urllib.request\n",
        "import zipfile\n",
        "import os"
      ]
    },
    {
      "cell_type": "code",
      "source": [
        "# Fungsi untuk mengunduh dan mengekstrak GloVe\n",
        "def download_and_extract_glove():\n",
        "    glove_url = \"http://nlp.stanford.edu/data/glove.6B.zip\"\n",
        "    glove_zip_path = \"glove.6B.zip\"\n",
        "    glove_dir = \"glove.6B\"\n",
        "\n",
        "    if not os.path.exists(glove_zip_path):\n",
        "        print(\"Mengunduh GloVe...\")\n",
        "        urllib.request.urlretrieve(glove_url, glove_zip_path)\n",
        "\n",
        "    if not os.path.exists(glove_dir):\n",
        "        print(\"Mengekstrak GloVe...\")\n",
        "        with zipfile.ZipFile(glove_zip_path, 'r') as zip_ref:\n",
        "            zip_ref.extractall(glove_dir)"
      ],
      "metadata": {
        "id": "RuPYD8ynSbdS"
      },
      "execution_count": 2,
      "outputs": []
    },
    {
      "cell_type": "code",
      "source": [
        "# Mengunduh dan mengekstrak GloVe jika belum ada\n",
        "download_and_extract_glove()"
      ],
      "metadata": {
        "colab": {
          "base_uri": "https://localhost:8080/"
        },
        "id": "qOJ5EgJjSb0u",
        "outputId": "277c0b3a-0cd7-4c4d-9412-6a07cf5631be"
      },
      "execution_count": 3,
      "outputs": [
        {
          "output_type": "stream",
          "name": "stdout",
          "text": [
            "Mengunduh GloVe...\n",
            "Mengekstrak GloVe...\n"
          ]
        }
      ]
    },
    {
      "cell_type": "code",
      "source": [
        "# Memuat model GloVe (misalnya menggunakan file glove.6B.100d.txt untuk dimensi 100)\n",
        "glove_file = \"glove.6B/glove.6B.100d.txt\"\n",
        "print(\"Memuat model GloVe...\")\n",
        "glove_model = KeyedVectors.load_word2vec_format(glove_file, binary=False, no_header=True)"
      ],
      "metadata": {
        "colab": {
          "base_uri": "https://localhost:8080/"
        },
        "id": "i6UleQFtScEF",
        "outputId": "26133344-9ebc-4580-a9ae-656eefb5f3cc"
      },
      "execution_count": 4,
      "outputs": [
        {
          "output_type": "stream",
          "name": "stdout",
          "text": [
            "Memuat model GloVe...\n"
          ]
        }
      ]
    },
    {
      "cell_type": "code",
      "source": [
        "# Contoh korpus\n",
        "corpus = [\n",
        "    \"The cat sat on the mat\",\n",
        "    \"The dog chased the cat\",\n",
        "    \"The cat climbed the tree\"\n",
        "]"
      ],
      "metadata": {
        "id": "ZQK8gmjTScPp"
      },
      "execution_count": 5,
      "outputs": []
    },
    {
      "cell_type": "code",
      "source": [
        "import nltk"
      ],
      "metadata": {
        "id": "sVCBt7XCUbbO"
      },
      "execution_count": 7,
      "outputs": []
    },
    {
      "cell_type": "code",
      "source": [
        "nltk.download('punkt')"
      ],
      "metadata": {
        "colab": {
          "base_uri": "https://localhost:8080/"
        },
        "id": "p79wRZICUeit",
        "outputId": "b27aa02c-5467-4ada-fbd4-f0dbdd8355bb"
      },
      "execution_count": 8,
      "outputs": [
        {
          "output_type": "stream",
          "name": "stderr",
          "text": [
            "[nltk_data] Downloading package punkt to /root/nltk_data...\n",
            "[nltk_data]   Unzipping tokenizers/punkt.zip.\n"
          ]
        },
        {
          "output_type": "execute_result",
          "data": {
            "text/plain": [
              "True"
            ]
          },
          "metadata": {},
          "execution_count": 8
        }
      ]
    },
    {
      "cell_type": "code",
      "source": [
        "# Pra-pemrosesan: Tokenisasi\n",
        "tokenized_corpus = [word_tokenize(sentence.lower()) for sentence in corpus]"
      ],
      "metadata": {
        "id": "bYds3LilScZi"
      },
      "execution_count": 9,
      "outputs": []
    },
    {
      "cell_type": "code",
      "source": [
        "# Mendapatkan vektor untuk kata tertentu menggunakan GloVe\n",
        "word = 'cat'\n",
        "if word in glove_model:\n",
        "    vector = glove_model[word]\n",
        "    print(f\"Vektor untuk kata '{word}':\\n{vector}\")\n",
        "else:\n",
        "    print(f\"Kata '{word}' tidak ditemukan dalam model GloVe.\")"
      ],
      "metadata": {
        "colab": {
          "base_uri": "https://localhost:8080/"
        },
        "id": "pbZPPbF0ScjD",
        "outputId": "51b85309-94d9-4aaf-fec0-0e5e88b1763a"
      },
      "execution_count": 10,
      "outputs": [
        {
          "output_type": "stream",
          "name": "stdout",
          "text": [
            "Vektor untuk kata 'cat':\n",
            "[ 0.23088    0.28283    0.6318    -0.59411   -0.58599    0.63255\n",
            "  0.24402   -0.14108    0.060815  -0.7898    -0.29102    0.14287\n",
            "  0.72274    0.20428    0.1407     0.98757    0.52533    0.097456\n",
            "  0.8822     0.51221    0.40204    0.21169   -0.013109  -0.71616\n",
            "  0.55387    1.1452    -0.88044   -0.50216   -0.22814    0.023885\n",
            "  0.1072     0.083739   0.55015    0.58479    0.75816    0.45706\n",
            " -0.28001    0.25225    0.68965   -0.60972    0.19578    0.044209\n",
            " -0.31136   -0.68826   -0.22721    0.46185   -0.77162    0.10208\n",
            "  0.55636    0.067417  -0.57207    0.23735    0.4717     0.82765\n",
            " -0.29263   -1.3422    -0.099277   0.28139    0.41604    0.10583\n",
            "  0.62203    0.89496   -0.23446    0.51349    0.99379    1.1846\n",
            " -0.16364    0.20653    0.73854    0.24059   -0.96473    0.13481\n",
            " -0.0072484  0.33016   -0.12365    0.27191   -0.40951    0.021909\n",
            " -0.6069     0.40755    0.19566   -0.41802    0.18636   -0.032652\n",
            " -0.78571   -0.13847    0.044007  -0.084423   0.04911    0.24104\n",
            "  0.45273   -0.18682    0.46182    0.089068  -0.18185   -0.01523\n",
            " -0.7368    -0.14532    0.15104   -0.71493  ]\n"
          ]
        }
      ]
    },
    {
      "cell_type": "code",
      "source": [
        "# Menemukan kata yang paling mirip\n",
        "similar_words = glove_model.most_similar('cat', topn=5)\n",
        "print(f\"Kata-kata yang paling mirip dengan 'cat':\\n{similar_words}\")"
      ],
      "metadata": {
        "colab": {
          "base_uri": "https://localhost:8080/"
        },
        "id": "-pUJWq-eScvU",
        "outputId": "596b2517-9b37-47b1-feb2-b89c9460182c"
      },
      "execution_count": 11,
      "outputs": [
        {
          "output_type": "stream",
          "name": "stdout",
          "text": [
            "Kata-kata yang paling mirip dengan 'cat':\n",
            "[('dog', 0.8798074722290039), ('rabbit', 0.7424427270889282), ('cats', 0.732300341129303), ('monkey', 0.7288709878921509), ('pet', 0.719014048576355)]\n"
          ]
        }
      ]
    }
  ]
}