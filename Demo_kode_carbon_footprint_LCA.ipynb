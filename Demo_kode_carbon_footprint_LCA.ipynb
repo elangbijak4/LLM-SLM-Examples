{
  "nbformat": 4,
  "nbformat_minor": 0,
  "metadata": {
    "colab": {
      "provenance": [],
      "authorship_tag": "ABX9TyPdZtltzESAQjqv1Ms2xWFN",
      "include_colab_link": true
    },
    "kernelspec": {
      "name": "python3",
      "display_name": "Python 3"
    },
    "language_info": {
      "name": "python"
    }
  },
  "cells": [
    {
      "cell_type": "markdown",
      "metadata": {
        "id": "view-in-github",
        "colab_type": "text"
      },
      "source": [
        "<a href=\"https://colab.research.google.com/github/elangbijak4/LLM-SLM-Examples/blob/main/Demo_kode_carbon_footprint_LCA.ipynb\" target=\"_parent\"><img src=\"https://colab.research.google.com/assets/colab-badge.svg\" alt=\"Open In Colab\"/></a>"
      ]
    },
    {
      "cell_type": "code",
      "execution_count": null,
      "metadata": {
        "id": "IrAIY3eDZJxb"
      },
      "outputs": [],
      "source": [
        "!pip install bw2io"
      ]
    },
    {
      "cell_type": "code",
      "source": [
        "!pip install brightway2"
      ],
      "metadata": {
        "id": "8TMNudVOZ1mX"
      },
      "execution_count": null,
      "outputs": []
    },
    {
      "cell_type": "code",
      "source": [
        "\n",
        "from brightway2 import *\n",
        "\n",
        "# Set proyek saat ini\n",
        "projects.set_current(\"my_project\")\n",
        "\n",
        "# Load data Ecoinvent\n",
        "bw2setup()"
      ],
      "metadata": {
        "id": "8izfpHjJaGrj"
      },
      "execution_count": null,
      "outputs": []
    },
    {
      "cell_type": "code",
      "source": [
        "# Tampilkan daftar semua database yang tersedia\n",
        "print(sorted([x for x in databases]))"
      ],
      "metadata": {
        "colab": {
          "base_uri": "https://localhost:8080/"
        },
        "id": "-rsOK4ejbBgv",
        "outputId": "b44be376-95c9-4139-c600-8712c5e6f77a"
      },
      "execution_count": 8,
      "outputs": [
        {
          "output_type": "stream",
          "name": "stdout",
          "text": [
            "['biosphere3']\n"
          ]
        }
      ]
    },
    {
      "cell_type": "code",
      "source": [
        "# Pilih database Ecoinvent yang akan digunakan\n",
        "eidb = Database(\"biosphere3\")"
      ],
      "metadata": {
        "id": "1pGoLkEWalct"
      },
      "execution_count": 10,
      "outputs": []
    },
    {
      "cell_type": "code",
      "source": [
        "eidb"
      ],
      "metadata": {
        "colab": {
          "base_uri": "https://localhost:8080/"
        },
        "id": "Hg8SynLrcQgC",
        "outputId": "996a1119-c85b-432a-ecfe-42471b3891e6"
      },
      "execution_count": 12,
      "outputs": [
        {
          "output_type": "execute_result",
          "data": {
            "text/plain": [
              "Brightway2 SQLiteBackend: biosphere3"
            ]
          },
          "metadata": {},
          "execution_count": 12
        }
      ]
    },
    {
      "cell_type": "code",
      "source": [
        "# Ambil satu unit proses (contoh)\n",
        "unit_process = eidb.random()"
      ],
      "metadata": {
        "id": "e9jpL70td4-u"
      },
      "execution_count": 22,
      "outputs": []
    },
    {
      "cell_type": "code",
      "source": [
        "unit_process"
      ],
      "metadata": {
        "colab": {
          "base_uri": "https://localhost:8080/"
        },
        "id": "73PuB5tQcKcf",
        "outputId": "87845368-ede7-4843-f950-5119b270eace"
      },
      "execution_count": 23,
      "outputs": [
        {
          "output_type": "execute_result",
          "data": {
            "text/plain": [
              "'Palladium II' (kilogram, None, ('water', 'ground-'))"
            ]
          },
          "metadata": {},
          "execution_count": 23
        }
      ]
    },
    {
      "cell_type": "code",
      "source": [
        "\n",
        "# Tampilkan detail unit proses\n",
        "print(\"Detail unit proses:\")\n",
        "print(unit_process)\n",
        "\n",
        "# Tampilkan input dari unit proses\n",
        "print(\"Input unit proses:\")\n",
        "for exchange in unit_process.exchanges():\n",
        "    if exchange['type'] == 'technosphere':\n",
        "        print(exchange)\n",
        "\n",
        "# Tampilkan output dari unit proses\n",
        "print(\"Output unit proses:\")\n",
        "for exchange in unit_process.exchanges():\n",
        "    if exchange['type'] == 'production':\n",
        "        print(exchange)"
      ],
      "metadata": {
        "colab": {
          "base_uri": "https://localhost:8080/"
        },
        "id": "7hKsrDc5dl4z",
        "outputId": "bf4504ff-3775-4a57-e55b-90640c7dee6e"
      },
      "execution_count": 24,
      "outputs": [
        {
          "output_type": "stream",
          "name": "stdout",
          "text": [
            "Detail unit proses:\n",
            "'Palladium II' (kilogram, None, ('water', 'ground-'))\n",
            "Input unit proses:\n",
            "Output unit proses:\n"
          ]
        }
      ]
    },
    {
      "cell_type": "markdown",
      "source": [
        "Kode dibawah error jika unit_process ya g terpilih memiliki input atau ouptut kosong"
      ],
      "metadata": {
        "id": "PAsmNmHPeKSl"
      }
    },
    {
      "cell_type": "code",
      "source": [
        "# Hitung jejak karbon dari unit proses\n",
        "lca = LCA({unit_process: 1})\n",
        "lca.lci()\n",
        "lca.lcia()\n",
        "print(\"Total jejak karbon:\", lca.score)"
      ],
      "metadata": {
        "id": "1pYrXW-hcGZe"
      },
      "execution_count": null,
      "outputs": []
    }
  ]
}